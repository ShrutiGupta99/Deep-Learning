{
  "cells": [
    {
      "cell_type": "code",
      "execution_count": 5,
      "id": "d8c9f27e",
      "metadata": {
        "id": "d8c9f27e"
      },
      "outputs": [],
      "source": [
        "import torch\n",
        "import torch.nn as nn\n",
        "import torchvision.transforms as transforms\n",
        "import torchvision.datasets as dsets\n",
        "import matplotlib.pyplot as plt"
      ]
    },
    {
      "cell_type": "code",
      "execution_count": 6,
      "id": "a67c5423",
      "metadata": {
        "id": "a67c5423"
      },
      "outputs": [],
      "source": [
        "# LOADING DATASET\n",
        "\n",
        "train_dataset = dsets.MNIST(root='./data', \n",
        "                            train=True, \n",
        "                            transform=transforms.ToTensor(),\n",
        "                            download=True)\n",
        "\n",
        "test_dataset = dsets.MNIST(root='./data', \n",
        "                           train=False, \n",
        "                           transform=transforms.ToTensor())"
      ]
    },
    {
      "cell_type": "code",
      "execution_count": 35,
      "id": "4c627199",
      "metadata": {
        "id": "4c627199"
      },
      "outputs": [],
      "source": [
        "# MAKING DATASET ITERABLE\n",
        "\n",
        "batch_size = 100\n",
        "n_iters = 10000\n",
        "num_epochs = n_iters / (len(train_dataset) / batch_size)\n",
        "num_epochs = int(num_epochs)\n",
        "\n",
        "train_loader = torch.utils.data.DataLoader(dataset=train_dataset, \n",
        "                                           batch_size=batch_size, \n",
        "                                           shuffle=True)\n",
        "\n",
        "test_loader = torch.utils.data.DataLoader(dataset=test_dataset, \n",
        "                                          batch_size=batch_size, \n",
        "                                          shuffle=False)\n"
      ]
    },
    {
      "cell_type": "code",
      "execution_count": 36,
      "id": "9e6ffd23",
      "metadata": {
        "id": "9e6ffd23"
      },
      "outputs": [],
      "source": [
        "# CREATE MODEL CLASS\n",
        "\n",
        "class FeedforwardNeuralNetModel(nn.Module):\n",
        "    def __init__(self, input_dim, hidden_dim, output_dim):\n",
        "        super(FeedforwardNeuralNetModel, self).__init__()\n",
        "        # Linear function 1: 784 --> 100\n",
        "        self.fc1 = nn.Linear(input_dim, hidden_dim) \n",
        "        # Non-linearity 1\n",
        "        self.relu1 = nn.ReLU()\n",
        "\n",
        "        # Linear function 2: 100 --> 100\n",
        "        self.fc2 = nn.Linear(hidden_dim, hidden_dim)\n",
        "        # Non-linearity 2\n",
        "        self.relu2 = nn.ReLU()\n",
        "\n",
        "        # Linear function 3 (readout): 100 --> 10\n",
        "        self.fc3 = nn.Linear(hidden_dim, output_dim)  \n",
        "\n",
        "    def forward(self, x):\n",
        "        # Linear function 1\n",
        "        out = self.fc1(x)\n",
        "        # Non-linearity 1\n",
        "        out = self.relu1(out)\n",
        "\n",
        "        # Linear function 2\n",
        "        out = self.fc2(out)\n",
        "        # Non-linearity 2\n",
        "        out = self.relu2(out)\n",
        "\n",
        "        # Linear function 3 (readout)\n",
        "        out = self.fc3(out)\n",
        "        return out\n",
        "\n"
      ]
    },
    {
      "cell_type": "code",
      "execution_count": 37,
      "id": "befca1dc",
      "metadata": {
        "id": "befca1dc"
      },
      "outputs": [],
      "source": [
        "# INSTANTIATE MODEL CLASS\n",
        "\n",
        "input_dim = 28*28\n",
        "hidden_dim = 100\n",
        "output_dim = 10\n",
        "\n",
        "model = FeedforwardNeuralNetModel(input_dim, hidden_dim, output_dim)\n"
      ]
    },
    {
      "cell_type": "code",
      "execution_count": 38,
      "id": "7419d3e9",
      "metadata": {
        "id": "7419d3e9"
      },
      "outputs": [],
      "source": [
        "# INSTANTIATE LOSS CLASS\n",
        "\n",
        "criterion = nn.CrossEntropyLoss()\n"
      ]
    },
    {
      "cell_type": "code",
      "execution_count": 39,
      "id": "519e92ad",
      "metadata": {
        "id": "519e92ad"
      },
      "outputs": [],
      "source": [
        "# INSTANTIATE OPTIMIZER CLASS\n",
        "\n",
        "learning_rate = 0.1\n",
        "\n",
        "optimizer = torch.optim.SGD(model.parameters(), lr=learning_rate)\n"
      ]
    },
    {
      "cell_type": "code",
      "execution_count": 40,
      "id": "5c1f9763",
      "metadata": {
        "id": "5c1f9763"
      },
      "outputs": [],
      "source": [
        "# TRAIN THE MODEL\n",
        "\n",
        "train_loss = []\n",
        "test_loss = []\n",
        "for epoch in range(num_epochs):\n",
        "    for i, (images, labels) in enumerate(train_loader):\n",
        "        # Load images with gradient accumulation capabilities\n",
        "        images = images.view(-1, 28*28).requires_grad_()\n",
        "        labels = labels\n",
        "\n",
        "        # Clear gradients w.r.t. parameters\n",
        "        optimizer.zero_grad()\n",
        "\n",
        "        # Forward pass to get output/logits\n",
        "        outputs = model(images)\n",
        "\n",
        "        # Calculate Loss: softmax --> cross entropy loss\n",
        "        loss = criterion(outputs, labels)\n",
        "        train_loss.append(loss)\n",
        "        # Getting gradients w.r.t. parameters\n",
        "        loss.backward()\n",
        "\n",
        "        # Updating parameters\n",
        "        optimizer.step()\n",
        "\n",
        "\n",
        "    for i, (images, labels) in enumerate(test_loader):\n",
        "                # Load images with gradient accumulation capabilities\n",
        "            images = images.view(-1, 28*28).requires_grad_()\n",
        "\n",
        "                # Forward pass only to get logits/output\n",
        "            outputs = model(images)\n",
        "\n",
        "\n",
        "                \n",
        "            test_loss1 = criterion(outputs, labels)\n",
        "            test_loss.append(test_loss1)\n"
      ]
    },
    {
      "cell_type": "code",
      "execution_count": 41,
      "id": "040276db",
      "metadata": {
        "id": "040276db"
      },
      "outputs": [],
      "source": [
        "Train_result = [tensor.item() for tensor in train_loss]\n",
        "\n",
        "Test_result = [tensor.item() for tensor in test_loss]"
      ]
    },
    {
      "cell_type": "code",
      "execution_count": 42,
      "id": "a7422f45",
      "metadata": {
        "id": "a7422f45",
        "outputId": "0f7728df-c05a-4c79-a471-c252757bc6fc",
        "colab": {
          "base_uri": "https://localhost:8080/",
          "height": 312
        }
      },
      "outputs": [
        {
          "output_type": "execute_result",
          "data": {
            "text/plain": [
              "Text(0.5, 1.0, 'Training Loss vs Training Iterations')"
            ]
          },
          "metadata": {},
          "execution_count": 42
        },
        {
          "output_type": "display_data",
          "data": {
            "text/plain": [
              "<Figure size 432x288 with 1 Axes>"
            ],
            "image/png": "[encoded data removed]"
          },
          "metadata": {
            "needs_background": "light"
          }
        }
      ],
      "source": [
        "lst = list(range(1,3001))\n",
        "\n",
        "plt.plot(Train_result)\n",
        "plt.ylabel(\"Training Loss\")\n",
        "plt.xlabel(\"Training Iterations\")\n",
        "plt.title(\"Training Loss vs Training Iterations\")"
      ]
    },
    {
      "cell_type": "code",
      "execution_count": 43,
      "id": "ac45644f",
      "metadata": {
        "id": "ac45644f",
        "outputId": "c90cb846-8793-438f-a9bc-eede34d89386",
        "colab": {
          "base_uri": "https://localhost:8080/",
          "height": 312
        }
      },
      "outputs": [
        {
          "output_type": "execute_result",
          "data": {
            "text/plain": [
              "Text(0.5, 1.0, 'Testing Loss vs Training Iterations')"
            ]
          },
          "metadata": {},
          "execution_count": 43
        },
        {
          "output_type": "display_data",
          "data": {
            "text/plain": [
              "<Figure size 432x288 with 1 Axes>"
            ],
            "image/png": "[encoded data removed]"
          },
          "metadata": {
            "needs_background": "light"
          }
        }
      ],
      "source": [
        "plt.plot(Test_result, color=\"green\")\n",
        "plt.ylabel(\"Testing Loss\")\n",
        "plt.xlabel(\"Training iterations\")\n",
        "plt.title(\"Testing Loss vs Training Iterations\")"
      ]
    }
  ],
  "metadata": {
    "kernelspec": {
      "display_name": "Python 3 (ipykernel)",
      "language": "python",
      "name": "python3"
    },
    "language_info": {
      "codemirror_mode": {
        "name": "ipython",
        "version": 3
      },
      "file_extension": ".py",
      "mimetype": "text/x-python",
      "name": "python",
      "nbconvert_exporter": "python",
      "pygments_lexer": "ipython3",
      "version": "3.9.5"
    },
    "colab": {
      "provenance": []
    }
  },
  "nbformat": 4,
  "nbformat_minor": 5
}